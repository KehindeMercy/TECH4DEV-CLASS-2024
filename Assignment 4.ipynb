{
 "cells": [
  {
   "cell_type": "code",
   "execution_count": 1,
   "id": "da452688",
   "metadata": {},
   "outputs": [
    {
     "name": "stdout",
     "output_type": "stream",
     "text": [
      "+----+\n",
      "\\    /\n",
      "/    \\\n",
      "+----+\n",
      "\\    /\n",
      "/    \\\n",
      "+----+\n",
      "\\    /\n",
      "/    \\\n",
      "+----+\n",
      "\\    /\n",
      "/    \\\n"
     ]
    }
   ],
   "source": [
    "# Question 1\n",
    "\n",
    "for i in range(4):\n",
    "    print(\"+----+\")\n",
    "    print(\"\\\\    /\")\n",
    "    print(\"/    \\\\\")\n"
   ]
  },
  {
   "cell_type": "code",
   "execution_count": 2,
   "id": "a8a9a2f1",
   "metadata": {},
   "outputs": [
    {
     "name": "stdout",
     "output_type": "stream",
     "text": [
      "**********\n",
      "**********\n",
      "**********\n",
      "**********\n",
      "**********\n"
     ]
    }
   ],
   "source": [
    "# Question 2\n",
    "\n",
    "for i in range(5):\n",
    "    print(\"**********\")\n"
   ]
  },
  {
   "cell_type": "code",
   "execution_count": 3,
   "id": "f6375daf",
   "metadata": {},
   "outputs": [
    {
     "name": "stdout",
     "output_type": "stream",
     "text": [
      "1 2 2 0 1 91 14\n",
      "2 4 5 10 3 89 28\n",
      "3 6 10 20 5 87 42\n",
      "4 8 17 30 7 85 56\n",
      "5 10 26 40 9 83 70\n",
      "6 12 37 50 11 81 84\n"
     ]
    }
   ],
   "source": [
    "# Question 3\n",
    "for i in range(1, 7):\n",
    "    print(f\"{i} {i*2} {i*i+1} {10*i-10} {i*2-1} {93-i*2} {i*14}\")\n",
    "\n"
   ]
  },
  {
   "cell_type": "code",
   "execution_count": 4,
   "id": "7b5bb597",
   "metadata": {},
   "outputs": [
    {
     "name": "stdout",
     "output_type": "stream",
     "text": [
      "1\n",
      "22\n",
      "333\n",
      "4444\n",
      "55555\n",
      "666666\n",
      "7777777\n"
     ]
    }
   ],
   "source": [
    "#Question 4\n",
    "\n",
    "class NumberTriangle:\n",
    "    def __init__(self, num_lines):\n",
    "        self.num_lines = num_lines\n",
    "\n",
    "    def generate_triangle(self):\n",
    "        for i in range(1, self.num_lines + 1):\n",
    "            for j in range(i):\n",
    "                print(i, end=\"\")\n",
    "            print()\n",
    "\n",
    "\n",
    "# Define the number of lines for the triangle using a class constant\n",
    "num_lines_triangle = 7\n",
    "\n",
    "# Create an instance of the NumberTriangle class and generate the triangle\n",
    "triangle = NumberTriangle(num_lines_triangle)\n",
    "triangle.generate_triangle()\n"
   ]
  },
  {
   "cell_type": "code",
   "execution_count": 8,
   "id": "a6d6c50b",
   "metadata": {},
   "outputs": [
    {
     "name": "stdout",
     "output_type": "stream",
     "text": [
      "50.0\n"
     ]
    }
   ],
   "source": [
    "#Question 5\n",
    "\n",
    "def pay(salary, hours_worked):\n",
    "    regular_hours = 8\n",
    "    overtime_rate = 1.5  # 1.5 times the normal salary for overtime\n",
    "    \n",
    "    if hours_worked <= regular_hours:\n",
    "        return salary * hours_worked\n",
    "    else:\n",
    "        regular_pay = salary * regular_hours\n",
    "        overtime_pay = salary * overtime_rate * (hours_worked - regular_hours)\n",
    "        total_pay = regular_pay + overtime_pay\n",
    "        return total_pay\n",
    "    # Example usage\n",
    "print(pay(4.00, 11))"
   ]
  },
  {
   "cell_type": "code",
   "execution_count": 10,
   "id": "7b7e80fd",
   "metadata": {},
   "outputs": [
    {
     "name": "stdout",
     "output_type": "stream",
     "text": [
      "12.566370614359172\n"
     ]
    }
   ],
   "source": [
    "#Question 6\n",
    "\n",
    "import math\n",
    "\n",
    "def area(radius):\n",
    "    return math.pi * radius ** 2\n",
    "# Example usage\n",
    "result = area(2.0)\n",
    "print(result)  # Output: 12.566370614359172"
   ]
  },
  {
   "cell_type": "code",
   "execution_count": null,
   "id": "833bcf08",
   "metadata": {},
   "outputs": [],
   "source": [
    "first_term = 5\n",
    "last_term = 1004\n",
    "num_terms = last_term - first_term + 1  # number of terms in the range\n",
    "\n",
    "sum = (num_terms / 2) * (first_term + last_term)\n",
    "print(\"sum =\", sum)"
   ]
  },
  {
   "cell_type": "code",
   "execution_count": null,
   "id": "6da5f2f7",
   "metadata": {},
   "outputs": [],
   "source": [
    "\n"
   ]
  },
  {
   "cell_type": "code",
   "execution_count": null,
   "id": "3c7a1d9d",
   "metadata": {},
   "outputs": [],
   "source": []
  },
  {
   "cell_type": "code",
   "execution_count": null,
   "id": "c5767cea",
   "metadata": {},
   "outputs": [],
   "source": []
  },
  {
   "cell_type": "code",
   "execution_count": null,
   "id": "29e9131a",
   "metadata": {},
   "outputs": [],
   "source": []
  },
  {
   "cell_type": "code",
   "execution_count": null,
   "id": "8db0e267",
   "metadata": {},
   "outputs": [],
   "source": []
  },
  {
   "cell_type": "code",
   "execution_count": null,
   "id": "e9b2f96b",
   "metadata": {},
   "outputs": [],
   "source": []
  }
 ],
 "metadata": {
  "kernelspec": {
   "display_name": "Python 3 (ipykernel)",
   "language": "python",
   "name": "python3"
  },
  "language_info": {
   "codemirror_mode": {
    "name": "ipython",
    "version": 3
   },
   "file_extension": ".py",
   "mimetype": "text/x-python",
   "name": "python",
   "nbconvert_exporter": "python",
   "pygments_lexer": "ipython3",
   "version": "3.11.5"
  }
 },
 "nbformat": 4,
 "nbformat_minor": 5
}
