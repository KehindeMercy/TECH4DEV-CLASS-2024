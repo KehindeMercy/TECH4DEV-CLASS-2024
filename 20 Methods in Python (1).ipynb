{
 "cells": [
  {
   "cell_type": "code",
   "execution_count": 22,
   "id": "0dd1dba6",
   "metadata": {},
   "outputs": [
    {
     "name": "stdout",
     "output_type": "stream",
     "text": [
      "66\n"
     ]
    }
   ],
   "source": [
    "# reduce() - The function iterates over each item in a list, or any other iterable data type, and returns a single value.\n",
    "\n",
    "from functools import reduce\n",
    "\n",
    "def add_numbers(a, b):\n",
    "    return a + b\n",
    "\n",
    "a = [1, 2, 3, 10]\n",
    "b = [5, 25, 20]\n",
    "\n",
    "# Concatenating the elements of lists 'a' and 'b' using reduce and add_numbers function\n",
    "result = reduce(add_numbers, a + b)\n",
    "print(result)\n"
   ]
  },
  {
   "cell_type": "code",
   "execution_count": 4,
   "id": "c9f21a5b",
   "metadata": {},
   "outputs": [
    {
     "name": "stdout",
     "output_type": "stream",
     "text": [
      "['Kehinde', 'Isaac', 'Mercy']\n"
     ]
    }
   ],
   "source": [
    "# split() - To trabsform or breakdown a string into multiple strings based on set criteria\n",
    "\n",
    "words = \"Kehinde Isaac Mercy\"\n",
    "words = words.split(\" \")\n",
    "print(words)"
   ]
  },
  {
   "cell_type": "code",
   "execution_count": 10,
   "id": "f573f168",
   "metadata": {},
   "outputs": [
    {
     "name": "stdout",
     "output_type": "stream",
     "text": [
      "0 Versace\n",
      "1 apple\n",
      "2 Timberland\n"
     ]
    }
   ],
   "source": [
    "# enumerate() - This function returns the length of an iterable and loops through its items simultaneously\n",
    "\n",
    "Designer = [\"Versace\", \"apple\", \"Timberland\"]\n",
    "for a, b in enumerate(Designer):\n",
    " print(a, b)\n"
   ]
  },
  {
   "cell_type": "code",
   "execution_count": 60,
   "id": "2a899330",
   "metadata": {},
   "outputs": [
    {
     "name": "stdout",
     "output_type": "stream",
     "text": [
      "The Value average is: 11.333333333333334\n",
      "The rounded Value is: 11.33\n"
     ]
    }
   ],
   "source": [
    "# Round() - This function helps round up a value to a specified significant figure (decimal or whole number)\n",
    "\n",
    "Value_average = (4+5+7/3)\n",
    "rounded_Value=round(Value_average, 2)\n",
    "print(\"The Value average is:\", Value_average)\n",
    "print(\"The rounded Value is:\", rounded_Value)\n"
   ]
  },
  {
   "cell_type": "code",
   "execution_count": 23,
   "id": "3bb79922",
   "metadata": {},
   "outputs": [
    {
     "name": "stdout",
     "output_type": "stream",
     "text": [
      "spoon\n"
     ]
    }
   ],
   "source": [
    "# Max()- This function returns the highest ranked item in an iterable, in the below case it evaluates based on the alphabetical value i.e(\"a,bc....\", \"s\" comes before \"p\" or any other starting alphabet)\n",
    "\n",
    "a = {1:\"Kettle\", 2:\"cup\", 3:\"spoon\", 4:\"pots\", 5:\"bottle\"}\n",
    "print(max(a.values()))"
   ]
  },
  {
   "cell_type": "code",
   "execution_count": 27,
   "id": "64e1b734",
   "metadata": {},
   "outputs": [
    {
     "name": "stdout",
     "output_type": "stream",
     "text": [
      "61\n"
     ]
    }
   ],
   "source": [
    "# Min() - This function help determin the main value within one's integar set (number set)\n",
    "\n",
    "a = [61, 109, 78, 902]\n",
    "print(min(a))"
   ]
  },
  {
   "cell_type": "code",
   "execution_count": 24,
   "id": "bfcc6de2",
   "metadata": {},
   "outputs": [
    {
     "name": "stdout",
     "output_type": "stream",
     "text": [
      "25.0\n"
     ]
    }
   ],
   "source": [
    "# Eval() - To perform mathematical operations on integers or floats, even in their string forms\n",
    "\n",
    "a = \"(20 * 5)/4\"\n",
    "b = eval(a)\n",
    "print(b)"
   ]
  },
  {
   "cell_type": "code",
   "execution_count": 34,
   "id": "1fbfa8bc",
   "metadata": {},
   "outputs": [
    {
     "name": "stdout",
     "output_type": "stream",
     "text": [
      "Kehinde\n"
     ]
    }
   ],
   "source": [
    "# Getattr() -This function returns the attribute of an object. It accepts two parameters: the class and the target attribute name.\n",
    "\n",
    "class ty:\n",
    "    def __init__(self, number, name):\n",
    "        self.number = number\n",
    "        self.name = name\n",
    "\n",
    "# Create an instance of the ty class\n",
    "a = ty(5 * 8, \"Kehinde\")\n",
    "\n",
    "# Get the 'name' attribute of the instance 'a' using getattr()\n",
    "b = getattr(a, 'name')\n",
    "print(b)\n",
    "\n"
   ]
  },
  {
   "cell_type": "code",
   "execution_count": 35,
   "id": "1b1df691",
   "metadata": {},
   "outputs": [
    {
     "name": "stdout",
     "output_type": "stream",
     "text": [
      "[2, 4, 3, 6, 9]\n"
     ]
    }
   ],
   "source": [
    "# Append() - This function works by writing new data into a list without overwriting its original content.\n",
    "\n",
    "numbers = [1, 2, 3]\n",
    "appendedlist = [2, 4]\n",
    "for q in numbers:\n",
    " a = q*3\n",
    " appendedlist.append(a)\n",
    "print(appendedlist)\n"
   ]
  },
  {
   "cell_type": "code",
   "execution_count": 38,
   "id": "f60aec60",
   "metadata": {},
   "outputs": [
    {
     "name": "stdout",
     "output_type": "stream",
     "text": [
      "Kehinde Isaac\n",
      "David Paul\n",
      "Joshua Anthony\n"
     ]
    }
   ],
   "source": [
    "# Replace() - This function allows one replace some parts of a string with another character\n",
    "\n",
    "columns = [\"Kehinde_Isaac\", \"David_Paul\", \"Joshua_Anthony\"]\n",
    "for i in columns:\n",
    " a = i.replace(\"_\", \" \")\n",
    " print(a)"
   ]
  },
  {
   "cell_type": "code",
   "execution_count": 31,
   "id": "1f8696e7",
   "metadata": {},
   "outputs": [
    {
     "name": "stdout",
     "output_type": "stream",
     "text": [
      "[2, 68, 11, 15]\n"
     ]
    }
   ],
   "source": [
    "# Map() - This function lets you iterate over each item in an iterable. However, instead of producing a single result, map() operates on each item independently.\n",
    "\n",
    "# Declare a separate function to handle the addition:\n",
    "def add(a, b):\n",
    "    return a + b\n",
    "\n",
    "# Define the lists\n",
    "b = [1, 3, 4, 6]\n",
    "a = [1, 65, 7, 9]\n",
    "\n",
    "# Pass the function and the two lists into the built-in map() function\n",
    "result = list(map(add, b, a))\n",
    "print(result)\n"
   ]
  },
  {
   "cell_type": "code",
   "execution_count": 40,
   "id": "02f7a83d",
   "metadata": {},
   "outputs": [
    {
     "name": "stdout",
     "output_type": "stream",
     "text": [
      "Folake  loves  eating  rice and dodo\n"
     ]
    }
   ],
   "source": [
    "# Join - To transform or join one  or more strings within a variable\n",
    "\n",
    "a = [\"Folake\", \" loves\", \" eating\", \" rice and dodo\"]\n",
    "a = \" \".join(a)\n",
    "print(a)"
   ]
  },
  {
   "cell_type": "code",
   "execution_count": 41,
   "id": "475e57ed",
   "metadata": {},
   "outputs": [
    {
     "name": "stdout",
     "output_type": "stream",
     "text": [
      "[9, 4, 3, 1]\n",
      "[3, 5, 8, 9]\n"
     ]
    }
   ],
   "source": [
    "# Sorted() - This function works by making a list from an iterable and then arranging its values in descending or ascending order\n",
    "\n",
    "a = {1, 4, 9, 3} # Try it on a set\n",
    "sort = {\"G\":8, \"A\":5, \"B\":9, \"F\":3} # Try it on a dictionary\n",
    "print(sorted(a, reverse=True)) # Descending\n",
    "print(sorted(sort.values())) # Ascending (default)\n"
   ]
  },
  {
   "cell_type": "code",
   "execution_count": 44,
   "id": "a44d7ac6",
   "metadata": {},
   "outputs": [
    {
     "name": "stdout",
     "output_type": "stream",
     "text": [
      "the lawyer's written statement\n"
     ]
    }
   ],
   "source": [
    "# Lower()- Transform result to lower case (small letters)\n",
    "\n",
    "X = \"THE LAWYER'S WRITTEN STATEMENT\"\n",
    "X = X.lower()\n",
    "print(X)"
   ]
  },
  {
   "cell_type": "code",
   "execution_count": 48,
   "id": "e3cc77d3",
   "metadata": {},
   "outputs": [
    {
     "name": "stdout",
     "output_type": "stream",
     "text": [
      "THE LAWYER'S WRITTEN STATEMENT\n"
     ]
    }
   ],
   "source": [
    "# Upper() - Transform result to Upper case (Capitalize)\n",
    "\n",
    "X = \"the lawyer's written statement\"\n",
    "X = X.upper()\n",
    "print(X)"
   ]
  },
  {
   "cell_type": "code",
   "execution_count": 49,
   "id": "387c0b5b",
   "metadata": {},
   "outputs": [
    {
     "name": "stdout",
     "output_type": "stream",
     "text": [
      "76\n"
     ]
    }
   ],
   "source": [
    "# Abs()- To neutralize a negative \n",
    "\n",
    "neg = 14 - 90\n",
    "pos = abs(neg)\n",
    "print(pos)"
   ]
  },
  {
   "cell_type": "code",
   "execution_count": 53,
   "id": "4fd87512",
   "metadata": {},
   "outputs": [
    {
     "name": "stdout",
     "output_type": "stream",
     "text": [
      "ech4dev's assignment\n"
     ]
    }
   ],
   "source": [
    "# Strip - To remove leading characters from a string\n",
    "\n",
    "b = \"Tech4dev's assignment\"\n",
    "b = b.strip(\" T\")\n",
    "print(b)"
   ]
  },
  {
   "cell_type": "code",
   "execution_count": 54,
   "id": "f112de6f",
   "metadata": {},
   "outputs": [
    {
     "name": "stdout",
     "output_type": "stream",
     "text": [
      "10 is the multiple of 5 and 2, but 14 is for 7 and 2\n"
     ]
    }
   ],
   "source": [
    "# Format() - To transform or manipulate your string output\n",
    "\n",
    "multiple = 5*2\n",
    "multiple2 = 7*2\n",
    "a = \"{} is the multiple of 5 and 2, but {} is for 7 and 2\"\n",
    "a = a.format(multiple, multiple2)\n",
    "print(a)"
   ]
  },
  {
   "cell_type": "code",
   "execution_count": 55,
   "id": "de2f1b3e",
   "metadata": {},
   "outputs": [
    {
     "name": "stdout",
     "output_type": "stream",
     "text": [
      "[1, 3, 4, 6]\n",
      "Pyth\n"
     ]
    }
   ],
   "source": [
    "# Slice()- To amke our code more readable \n",
    "\n",
    "b = [1, 3, 4, 6, 7, 10]\n",
    "st = \"Python tutorial\"\n",
    "sliceportion = slice(0, 4)\n",
    "\n",
    "print(b[sliceportion])\n",
    "print(st[sliceportion])"
   ]
  },
  {
   "cell_type": "code",
   "execution_count": 57,
   "id": "c7455a44",
   "metadata": {},
   "outputs": [
    {
     "name": "stdout",
     "output_type": "stream",
     "text": [
      "[1, 3, 5]\n"
     ]
    }
   ],
   "source": [
    "# Range() - This function helps in creating a list of integers ranging between specific numbers without explicitly writing them out.\n",
    "\n",
    "# Using list comprehension to filter odd numbers from the range\n",
    "a = range(1, 6)\n",
    "b = [i for i in a if i % 2 != 0]\n",
    "print(b)\n"
   ]
  },
  {
   "cell_type": "code",
   "execution_count": null,
   "id": "bf1796c6",
   "metadata": {},
   "outputs": [],
   "source": []
  }
 ],
 "metadata": {
  "kernelspec": {
   "display_name": "Python 3 (ipykernel)",
   "language": "python",
   "name": "python3"
  },
  "language_info": {
   "codemirror_mode": {
    "name": "ipython",
    "version": 3
   },
   "file_extension": ".py",
   "mimetype": "text/x-python",
   "name": "python",
   "nbconvert_exporter": "python",
   "pygments_lexer": "ipython3",
   "version": "3.11.5"
  }
 },
 "nbformat": 4,
 "nbformat_minor": 5
}
