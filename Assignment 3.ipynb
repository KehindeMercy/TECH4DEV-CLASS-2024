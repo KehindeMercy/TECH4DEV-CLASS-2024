{
 "cells": [
  {
   "cell_type": "code",
   "execution_count": 8,
   "id": "7c6faaac",
   "metadata": {},
   "outputs": [
    {
     "name": "stdout",
     "output_type": "stream",
     "text": [
      "23\n"
     ]
    }
   ],
   "source": [
    "# Question 1\n",
    "\n",
    "number = [2, 4, 7, 4, 23, 5, 1, 4, 8, 9]\n",
    "\n",
    "#Printing Max Value\n",
    "\n",
    "print(max(number))"
   ]
  },
  {
   "cell_type": "code",
   "execution_count": 10,
   "id": "b7137750",
   "metadata": {},
   "outputs": [
    {
     "name": "stdout",
     "output_type": "stream",
     "text": [
      "Average of list:  24.6\n"
     ]
    }
   ],
   "source": [
    "# Question 2\n",
    "\n",
    "number = [4, 7, 1, 5, 11, 53, 12, 46, 84, 23]\n",
    "\n",
    "average = sum(number)/len(number)\n",
    "\n",
    "#Printing Average Value\n",
    "\n",
    "print(max(number)"
   ]
  },
  {
   "cell_type": "code",
   "execution_count": 2,
   "id": "3513a324",
   "metadata": {},
   "outputs": [
    {
     "name": "stdout",
     "output_type": "stream",
     "text": [
      "[18, 17, 16, 15, 14, 13]\n"
     ]
    }
   ],
   "source": [
    "# Question 3 Reversing a list \n",
    "def Reverse(number):\n",
    "   new_number = number[::-1]\n",
    "   return new_number\n",
    " \n",
    " \n",
    "number = [13, 14, 15, 16, 17, 18]\n",
    "print(Reverse(number))"
   ]
  },
  {
   "cell_type": "code",
   "execution_count": 4,
   "id": "9e1517fb",
   "metadata": {},
   "outputs": [
    {
     "name": "stdout",
     "output_type": "stream",
     "text": [
      "True\n"
     ]
    }
   ],
   "source": [
    "# Question 4\n",
    "def common_value(a, b):\n",
    "    a_set = set(a)\n",
    "    b_set = set(b)\n",
    "    if (a_set & b_set):\n",
    "        return True\n",
    "    else:\n",
    "        return False\n",
    "         \n",
    " \n",
    "a = [1, 2, 3, 4, 5]\n",
    "b = [5, 6, 7, 8, 9]\n",
    "print(common_value(a, b))"
   ]
  },
  {
   "cell_type": "code",
   "execution_count": 6,
   "id": "b3482ce3",
   "metadata": {},
   "outputs": [
    {
     "name": "stdout",
     "output_type": "stream",
     "text": [
      "[90, 65, 19, 23]\n"
     ]
    }
   ],
   "source": [
    "# Question 5\n",
    "def swapPositions(list, pos1, pos2):\n",
    "     \n",
    "    list[pos1], list[pos2] = list[pos2], list[pos1]\n",
    "    return list\n",
    " \n",
    "# Driver function\n",
    "List = [23, 65, 19, 90]\n",
    "pos1, pos2  = 1, 4\n",
    " \n",
    "print(swapPositions(List, pos1-1, pos2-1))"
   ]
  },
  {
   "cell_type": "code",
   "execution_count": 10,
   "id": "860f7153",
   "metadata": {},
   "outputs": [
    {
     "name": "stdout",
     "output_type": "stream",
     "text": [
      "[1, 2, 3, 4, 5, 6, 7, 8, 9, 10, 11]\n"
     ]
    }
   ],
   "source": [
    "# Question 6 \n",
    "\n",
    "list_1 =[1,2,3,4,5,6]\n",
    "list_2 =[7,8,9,10,11]\n",
    "\n",
    "print(list_1 + list_2)"
   ]
  },
  {
   "cell_type": "code",
   "execution_count": 17,
   "id": "d30630d7",
   "metadata": {},
   "outputs": [
    {
     "name": "stdout",
     "output_type": "stream",
     "text": [
      "5\n"
     ]
    }
   ],
   "source": [
    "# Question 8\n",
    "\n",
    "x = [7,8,9,10,11]\n",
    "\n",
    "max_value =(max(x) - min(x))\n",
    "\n",
    "print(max_value + 1)"
   ]
  },
  {
   "cell_type": "code",
   "execution_count": 1,
   "id": "c7da9d9a",
   "metadata": {},
   "outputs": [
    {
     "name": "stdout",
     "output_type": "stream",
     "text": [
      "6\n"
     ]
    }
   ],
   "source": [
    "# Question 9 \n",
    "\n",
    "def count_range(lst, range_tuple):\n",
    "    l, r = range_tuple\n",
    "    count = sum(1 for x in lst if l <= x <= r)\n",
    "    return count\n",
    "\n",
    "list1 = [10, 20, 30, 40, 50, 40, 40, 60, 70]\n",
    "l = 40\n",
    "r = 80\n",
    "print(count_range(list1, (l, r)))\n"
   ]
  },
  {
   "cell_type": "code",
   "execution_count": null,
   "id": "86b96836",
   "metadata": {},
   "outputs": [],
   "source": []
  }
 ],
 "metadata": {
  "kernelspec": {
   "display_name": "Python 3 (ipykernel)",
   "language": "python",
   "name": "python3"
  },
  "language_info": {
   "codemirror_mode": {
    "name": "ipython",
    "version": 3
   },
   "file_extension": ".py",
   "mimetype": "text/x-python",
   "name": "python",
   "nbconvert_exporter": "python",
   "pygments_lexer": "ipython3",
   "version": "3.11.5"
  }
 },
 "nbformat": 4,
 "nbformat_minor": 5
}
