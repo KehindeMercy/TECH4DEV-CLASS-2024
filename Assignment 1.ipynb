{
 "cells": [
  {
   "cell_type": "code",
   "execution_count": 2,
   "id": "5fed7c9e",
   "metadata": {},
   "outputs": [
    {
     "name": "stdout",
     "output_type": "stream",
     "text": [
      "\ta\tb\tc\n"
     ]
    }
   ],
   "source": [
    "print(\"\\ta\\tb\\tc\")"
   ]
  },
  {
   "cell_type": "code",
   "execution_count": 3,
   "id": "92024d16",
   "metadata": {},
   "outputs": [
    {
     "name": "stdout",
     "output_type": "stream",
     "text": [
      "\\\\\n"
     ]
    }
   ],
   "source": [
    "print(\"\\\\\\\\\") "
   ]
  },
  {
   "cell_type": "code",
   "execution_count": 4,
   "id": "5952c26f",
   "metadata": {},
   "outputs": [
    {
     "name": "stdout",
     "output_type": "stream",
     "text": [
      "'\n"
     ]
    }
   ],
   "source": [
    "print(\"'\") "
   ]
  },
  {
   "cell_type": "code",
   "execution_count": 5,
   "id": "485bd01b",
   "metadata": {},
   "outputs": [
    {
     "name": "stdout",
     "output_type": "stream",
     "text": [
      "\"\"\"\n"
     ]
    }
   ],
   "source": [
    "print(\"\\\"\\\"\\\"\") \n"
   ]
  },
  {
   "cell_type": "code",
   "execution_count": 6,
   "id": "cd5eb22c",
   "metadata": {},
   "outputs": [
    {
     "name": "stdout",
     "output_type": "stream",
     "text": [
      "C:\n",
      "in\the downward spiral\n"
     ]
    }
   ],
   "source": [
    "print(\"C:\\nin\\the downward spiral\") "
   ]
  },
  {
   "cell_type": "code",
   "execution_count": 11,
   "id": "9a87cdcc",
   "metadata": {},
   "outputs": [
    {
     "name": "stdout",
     "output_type": "stream",
     "text": [
      "/ \\ // \\\\ /// \\\\\\\n"
     ]
    }
   ],
   "source": [
    "print(\"/ \\\\ // \\\\\\\\ /// \\\\\\\\\\\\\")"
   ]
  },
  {
   "cell_type": "code",
   "execution_count": 17,
   "id": "a0023d2d",
   "metadata": {},
   "outputs": [
    {
     "name": "stdout",
     "output_type": "stream",
     "text": [
      "This quote is from Irish poet Oscar Wilde:\n",
      "\n",
      "\"Music makes one feel so romantic\n",
      "\n",
      "- at least it always gets on one's nerves – which is the same thing nowadays.\"\n"
     ]
    }
   ],
   "source": [
    "print(\"This quote is from Irish poet Oscar Wilde:\")\n",
    "print()\n",
    "print('\"Music makes one feel so romantic')\n",
    "print()\n",
    "print('- at least it always gets on one\\'s nerves – which is the same thing nowadays.\"')"
   ]
  },
  {
   "cell_type": "code",
   "execution_count": 22,
   "id": "8fc5f440",
   "metadata": {},
   "outputs": [
    {
     "name": "stdout",
     "output_type": "stream",
     "text": [
      "A \"quoted\" String is\n",
      "\n",
      "much better if you\n",
      "\n",
      "learn\n",
      "\n",
      "the rules of \"escape sequences.\"\n",
      "\n",
      "Also, \"\" represents an empty String.\n",
      "\n",
      "Don't forget: use \\\" instead of \" !\n",
      "'' is not the same as \"\n"
     ]
    }
   ],
   "source": [
    "print('A \"quoted\" String is')\n",
    "print()\n",
    "print('much better if you')\n",
    "print()\n",
    "print('learn')\n",
    "print()\n",
    "print('the rules of \"escape sequences.\"')\n",
    "print()\n",
    "print('Also, \"\" represents an empty String.')\n",
    "print()\n",
    "print('Don\\'t forget: use \\\\\" instead of \" !')\n",
    "print('\\'\\' is not the same as \"')  # Adding an escaped single quote in the final print statement"
   ]
  },
  {
   "cell_type": "code",
   "execution_count": 29,
   "id": "5a9cee0c",
   "metadata": {},
   "outputs": [
    {
     "name": "stdout",
     "output_type": "stream",
     "text": [
      "9 / 5\n",
      "695 % 20\n",
      "7 + 6 * 5\n",
      "7 * 6 + 5\n",
      "248 % 100 / 5\n",
      "6 * 3 - 9 / 4\n",
      "-8\n",
      "6 + (18 % (17 - 12))\n"
     ]
    }
   ],
   "source": [
    "# Calculating the values of the expressions\n",
    "result1 = \"9 / 5\"\n",
    "result2 = \"695 % 20\"\n",
    "result3= \"7 + 6 * 5\"\n",
    "result4 = \"7 * 6 + 5\"\n",
    "result5 = \"248 % 100 / 5\"\n",
    "result6 = \"6 * 3 - 9 / 4\"\n",
    "result17 = \"(5 - 7) * 4\"\n",
    "result8 = \"6 + (18 % (17 - 12))\"\n",
    "\n",
    "# Displaying the results\n",
    "print(result1)\n",
    "print(result2)\n",
    "print(result3)\n",
    "print(result4)\n",
    "print(result5)\n",
    "print(result6)\n",
    "print(result7)\n",
    "print(result8)"
   ]
  },
  {
   "cell_type": "code",
   "execution_count": null,
   "id": "98fbca6b",
   "metadata": {},
   "outputs": [],
   "source": []
  }
 ],
 "metadata": {
  "kernelspec": {
   "display_name": "Python 3 (ipykernel)",
   "language": "python",
   "name": "python3"
  },
  "language_info": {
   "codemirror_mode": {
    "name": "ipython",
    "version": 3
   },
   "file_extension": ".py",
   "mimetype": "text/x-python",
   "name": "python",
   "nbconvert_exporter": "python",
   "pygments_lexer": "ipython3",
   "version": "3.11.5"
  }
 },
 "nbformat": 4,
 "nbformat_minor": 5
}
